{
 "cells": [
  {
   "cell_type": "code",
   "execution_count": null,
   "metadata": {},
   "outputs": [],
   "source": [
    "import pandas as pd\n",
    "import numpy as np\n",
    "import os\n",
    "from functools import reduce"
   ]
  },
  {
   "cell_type": "code",
   "execution_count": null,
   "metadata": {},
   "outputs": [],
   "source": [
    "#\n",
    "#study_id = GALAXY_INPUTS['study_id']\n",
    "\n",
    "\n",
    "#\n",
    "galaxyInput_rankToMerge = GALAXY_INPUTS[\"RankToMergeOn\"]\n",
    "# selection from \"superkingdom\" \"kingdom\" \"phylum\" \"class\" \"order\" \"family\" \"genus\" \"species\" \"all\" \"only counts\"\n",
    "\n",
    "galaxyInput_countTables = GALAXY_INPUTS[\"CountTables\"]\n",
    "\n",
    "\n",
    "mappingFromTaxaToNumber = {\n",
    "    \"superkingdom\":1,\n",
    "    \"kingdom\":2,\n",
    "    \"phylum\":3,\n",
    "    \"class\":4,\n",
    "    \"order\":5,\n",
    "    \"family\":6,\n",
    "    \"genus\":7,\n",
    "    \"species\":8,\n",
    "    \"all\" : 10,         # to prevent key error in converting rank to number\n",
    "    \"only counts\" : 10  # only counts and all will be handled when creating the tables\n",
    "}\n",
    "\n",
    "rankToMerge = mappingFromTaxaToNumber[galaxyInput_rankToMerge]\n",
    "\n",
    "\n",
    "\n",
    "filePaths = []\n",
    "\n",
    "for inputTable in galaxyInput_countTables:\n",
    "    filePaths.append(inputTable[\"path\"])\n"
   ]
  },
  {
   "cell_type": "code",
   "execution_count": null,
   "metadata": {},
   "outputs": [],
   "source": [
    "tables = []\n",
    "for file in filePaths:\n",
    "    # Read out all Tables and remove unneccecary informations\n",
    "    df = pd.read_csv(file,sep=\"\\t\",header=1)\n",
    "    df = df.iloc[: , 1:]\n",
    "    if(\"taxid\" in df.columns):\n",
    "        df = df.drop(columns=[\"taxid\"])\n",
    "    df.columns = [file.split(\"/\")[-1].replace(\".tsv\",\"\"),\"#KEY\"]\n",
    "    columns = df.columns.tolist()\n",
    "    columns.reverse()\n",
    "    df = df[columns]\n",
    "    tables.append(df)\n",
    "# Merge all tables into one\n",
    "df = reduce(lambda df1,df2:pd.merge(df1,df2,on=\"#KEY\",how=\"outer\"),tables)\n",
    "df = df.fillna(0)\n",
    "df"
   ]
  },
  {
   "cell_type": "code",
   "execution_count": null,
   "metadata": {},
   "outputs": [],
   "source": [
    "if(galaxyInput_rankToMerge == \"only counts\"):\n",
    "    df.to_csv(\"outputs/collection/countTable.tsv\",sep=\"\\t\",index=False)"
   ]
  },
  {
   "cell_type": "code",
   "execution_count": null,
   "metadata": {},
   "outputs": [],
   "source": [
    "if(rankToMerge < 10):\n",
    "    df2 = df\n",
    "    df2 = df2.reset_index()\n",
    "    for index, row in df.iterrows():\n",
    "        rowRaw = row['#KEY']\n",
    "        rowSplit = rowRaw.split(\";\")\n",
    "        if(len(rowSplit) >= rankToMerge):\n",
    "            df2.loc[index,\"#KEY\"] = rowSplit[rankToMerge-1].replace(\"__\",\"_taxa_\")\n",
    "        else:\n",
    "            df2.loc[index,\"#KEY\"] = \"noValue\"\n",
    "\n",
    "    df2 = df2[df2[\"#KEY\"] != \"noValue\"]\n",
    "    df2 = df2.groupby([\"#KEY\"]).sum()\n",
    "    df2 = df2.reset_index()\n",
    "    df2 = df2.drop(columns=[\"index\"])\n",
    "    df2.to_csv(f\"outputs/collection/mergedOn{galaxyInput_rankToMerge}.tsv\",sep=\"\\t\",index=False)"
   ]
  },
  {
   "cell_type": "code",
   "execution_count": null,
   "metadata": {},
   "outputs": [],
   "source": [
    "if(galaxyInput_rankToMerge == \"all\"):\n",
    "    tables = []\n",
    "    for i in range(2,9):\n",
    "        df2 = df\n",
    "        df2 = df2.reset_index()\n",
    "        for index, row in df.iterrows():\n",
    "            rowRaw = row['#KEY']\n",
    "            rowSplit = rowRaw.split(\";\")\n",
    "            if(len(rowSplit) >= i):\n",
    "                df2.loc[index,\"#KEY\"] = rowSplit[i-1].replace(\"__\",\"_taxa_\")\n",
    "            else:\n",
    "                df2.loc[index,\"#KEY\"] = \"noValue\"\n",
    "\n",
    "        df2 = df2[df2[\"#KEY\"] != \"noValue\"]\n",
    "        df2 = df2.groupby([\"#KEY\"]).sum()\n",
    "        df2 = df2.reset_index()\n",
    "        df2 = df2.drop(columns=[\"index\"])\n",
    "        tables.append(df2)\n",
    "    result = pd.concat(tables)\n",
    "    result.to_csv(f\"outputs/collection/mergedOn{galaxyInput_rankToMerge}.tsv\",sep=\"\\t\",index=False)"
   ]
  }
 ],
 "metadata": {
  "language_info": {
   "name": "python"
  }
 },
 "nbformat": 4,
 "nbformat_minor": 2
}
