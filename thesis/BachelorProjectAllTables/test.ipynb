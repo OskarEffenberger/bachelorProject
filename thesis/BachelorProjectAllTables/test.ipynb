{
 "cells": [
  {
   "cell_type": "code",
   "execution_count": 16,
   "metadata": {},
   "outputs": [],
   "source": [
    "import pandas as pd\n",
    "import string\n",
    "\n",
    "def Getletterfromindex(number):\n",
    "    number = str(number)\n",
    "    number = number.replace(\"1\",\"a\")\n",
    "    number = number.replace(\"2\",\"b\")\n",
    "    number = number.replace(\"3\",\"c\")\n",
    "    number = number.replace(\"4\",\"d\")\n",
    "    number = number.replace(\"5\",\"e\")\n",
    "    number = number.replace(\"6\",\"f\")\n",
    "    number = number.replace(\"7\",\"g\")\n",
    "    number = number.replace(\"8\",\"h\")\n",
    "    number = number.replace(\"9\",\"i\")\n",
    "    number = number.replace(\"0\",\"j\")\n",
    "    return number\n",
    "\n",
    "df = pd.read_csv(\"RData\\count_table\",sep= \"\\t\",index_col=\"GeneID\")\n",
    "df.index\n",
    "\n",
    "newIdx = []\n",
    "\n",
    "for i in range(len(df.index)):\n",
    "    newIdx.append(Getletterfromindex(i))\n",
    "\n",
    "df.index = newIdx\n",
    "df = df.rename_axis('GeneID')\n",
    "df\n",
    "df.to_csv(\"RData\\count_table\",sep= \"\\t\",index=True,header=True)"
   ]
  }
 ],
 "metadata": {
  "kernelspec": {
   "display_name": "Python 3",
   "language": "python",
   "name": "python3"
  },
  "language_info": {
   "codemirror_mode": {
    "name": "ipython",
    "version": 3
   },
   "file_extension": ".py",
   "mimetype": "text/x-python",
   "name": "python",
   "nbconvert_exporter": "python",
   "pygments_lexer": "ipython3",
   "version": "3.11.3"
  }
 },
 "nbformat": 4,
 "nbformat_minor": 2
}
